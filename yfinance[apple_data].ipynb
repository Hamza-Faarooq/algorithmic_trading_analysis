# Importing necessary libraries
import numpy as np
import pandas as pd
import yfinance as yf
from sklearn.metrics import accuracy_score, f1_score, roc_auc_score
from sklearn.preprocessing import StandardScaler

# Step 1: Data Extraction
def extract_data(company, start_date, end_date, interval):
    """
    Extracts OHLC data for a given company within a specified timeframe.
    Args:
    - company: Ticker symbol of the company
    - start_date: Start date for data extraction (YYYY-MM-DD)
    - end_date: End date for data extraction (YYYY-MM-DD)
    - interval: Interval for data (e.g., '1d' for daily)
    Returns:
    - DataFrame containing OHLC data
    """
    data = yf.download(company, start=start_date, end=end_date, interval=interval)
    return data

# Step 2: Indicator Calculation
def calculate_SMA(data, window=20):
    """
    Calculates Simple Moving Average (SMA).
    Args:
    - data: DataFrame containing OHLC data
    - window: Window size for SMA calculation
    Returns:
    - Series containing SMA values
    """
    return data['Close'].rolling(window=window).mean()

# Similarly, functions for EMA, MACD, OBV, Bollinger Bands, ADX, Stochastic Oscillators, ATR, Standard Deviation can be defined.

# Step 3: Feature Engineering
def create_features(data):
    """
    Constructs new features using technical indicators.
    Args:
    - data: DataFrame containing OHLC data
    Returns:
    - DataFrame containing original data along with new features
    """
    # Example: Adding SMA as a new feature
    data['SMA_20'] = calculate_SMA(data, window=20)
    return data

# Step 4: Trading Decision
def trading_decision(data):
    """
    Determines when to buy, sell, or hold based on indicators.
    Args:
    - data: DataFrame containing OHLC data with indicators
    Returns:
    - Series containing trading decisions (Buy, Sell, Hold)
    """
    # Example: Simple trading strategy based on SMA crossover
    data['Signal'] = np.where(data['Close'] > data['SMA_20'], 'Buy', 'Sell')
    return data['Signal']

# Step 5: Model Building
def logistic_regression(X_train, y_train, X_test):
    """
    Builds logistic regression model from scratch.
    Args:
    - X_train: Training features
    - y_train: Training target variable
    - X_test: Testing features
    Returns:
    - Predicted trading decisions
    """
    # Placeholder code for logistic regression
    # Here, you would implement logistic regression using gradient descent or other optimization techniques
    # For simplicity, we'll use a placeholder random prediction
    predictions = np.random.choice(['Buy', 'Sell', 'Hold'], size=len(X_test))
    return predictions

# Step 6: Evaluation
def evaluate(y_true, y_pred):
    """
    Evaluates the model using F1-score, accuracy, and AUC-ROC score.
    Args:
    - y_true: True target variable
    - y_pred: Predicted target variable
    Returns:
    - Dictionary containing evaluation metrics
    """
    f1 = f1_score(y_true, y_pred, average='weighted')
    accuracy = accuracy_score(y_true, y_pred)
    auc_roc = roc_auc_score(pd.get_dummies(y_true), pd.get_dummies(y_pred), average='weighted', multi_class='ovr')
    return {'F1 Score': f1, 'Accuracy': accuracy, 'AUC-ROC Score': auc_roc}

# Example usage
company = 'AAPL'  # Choosing Apple Inc.
start_date = '2023-01-01'
end_date = '2024-01-01'
interval = '1d'
data = extract_data(company, start_date, end_date, interval)

features = create_features(data)
X = features.drop(['Signal'], axis=1)  # Features
y = trading_decision(features)  # Target variable

# Splitting data into train and test sets (80-20 split)
train_size = int(0.8 * len(X))
X_train, X_test = X[:train_size], X[train_size:]
y_train, y_test = y[:train_size], y[train_size:]

# Scaling features
scaler = StandardScaler()
X_train_scaled = scaler.fit_transform(X_train)
X_test_scaled = scaler.transform(X_test)

# Building and evaluating logistic regression model
predictions = logistic_regression(X_train_scaled, y_train, X_test_scaled)
evaluation = evaluate(y_test, predictions)
print("Evaluation Metrics:")
print(evaluation)
